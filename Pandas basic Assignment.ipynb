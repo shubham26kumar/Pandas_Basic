{
 "cells": [
  {
   "cell_type": "markdown",
   "id": "ef5cc3a1-7192-48f9-b4d2-354dbd067531",
   "metadata": {},
   "source": [
    "Q1. Create a Pandas Series that contains the following data: 4, 8, 15, 16, 23, and 42. Then, print the series."
   ]
  },
  {
   "cell_type": "code",
   "execution_count": 1,
   "id": "19efe1de-3ee1-432c-a547-d231608142e4",
   "metadata": {},
   "outputs": [],
   "source": [
    "import pandas as pd"
   ]
  },
  {
   "cell_type": "code",
   "execution_count": 2,
   "id": "573bcebb-c91e-4e7a-a1cb-35cefaef0df8",
   "metadata": {},
   "outputs": [],
   "source": [
    "l1 = [4,8,15,16,23,42]"
   ]
  },
  {
   "cell_type": "code",
   "execution_count": 8,
   "id": "39a06f11-2654-4afe-9382-4f85d6f031eb",
   "metadata": {},
   "outputs": [],
   "source": [
    "s1 = pd.Series(l1)"
   ]
  },
  {
   "cell_type": "code",
   "execution_count": 9,
   "id": "0232abdd-b0cf-4ea1-8daf-e20fc0c2cff1",
   "metadata": {},
   "outputs": [
    {
     "data": {
      "text/plain": [
       "0     4\n",
       "1     8\n",
       "2    15\n",
       "3    16\n",
       "4    23\n",
       "5    42\n",
       "dtype: int64"
      ]
     },
     "execution_count": 9,
     "metadata": {},
     "output_type": "execute_result"
    }
   ],
   "source": [
    "s1"
   ]
  },
  {
   "cell_type": "code",
   "execution_count": 11,
   "id": "9d57193c-444d-4a69-86f9-acd4a6fae21d",
   "metadata": {},
   "outputs": [
    {
     "data": {
      "text/plain": [
       "pandas.core.series.Series"
      ]
     },
     "execution_count": 11,
     "metadata": {},
     "output_type": "execute_result"
    }
   ],
   "source": [
    "type(s1)"
   ]
  },
  {
   "cell_type": "markdown",
   "id": "bff76630-4983-4b74-9170-6ae214302178",
   "metadata": {},
   "source": [
    "Q2. Create a variable of list type containing 10 elements in it, and apply pandas.Series function on the \n",
    "variable print it."
   ]
  },
  {
   "cell_type": "code",
   "execution_count": 16,
   "id": "a3d5127d-da68-45ca-b358-dc46658390e1",
   "metadata": {},
   "outputs": [],
   "source": [
    "l2 = list(range(10))"
   ]
  },
  {
   "cell_type": "code",
   "execution_count": 18,
   "id": "6998b56f-49bf-4247-8084-1e6451540cab",
   "metadata": {},
   "outputs": [
    {
     "data": {
      "text/plain": [
       "[0, 1, 2, 3, 4, 5, 6, 7, 8, 9]"
      ]
     },
     "execution_count": 18,
     "metadata": {},
     "output_type": "execute_result"
    }
   ],
   "source": [
    "l2"
   ]
  },
  {
   "cell_type": "code",
   "execution_count": 19,
   "id": "adc88ae6-06a9-4bc9-955c-2ee9f14aa500",
   "metadata": {},
   "outputs": [],
   "source": [
    "s2 = pd.Series(l2)"
   ]
  },
  {
   "cell_type": "code",
   "execution_count": 20,
   "id": "2dc0fe9f-56a5-4638-ae98-ef1e505cc298",
   "metadata": {},
   "outputs": [
    {
     "data": {
      "text/plain": [
       "0    0\n",
       "1    1\n",
       "2    2\n",
       "3    3\n",
       "4    4\n",
       "5    5\n",
       "6    6\n",
       "7    7\n",
       "8    8\n",
       "9    9\n",
       "dtype: int64"
      ]
     },
     "execution_count": 20,
     "metadata": {},
     "output_type": "execute_result"
    }
   ],
   "source": [
    "s2"
   ]
  },
  {
   "cell_type": "markdown",
   "id": "0d5a0f0d-c8ea-4541-a41a-968eb8a315d6",
   "metadata": {},
   "source": [
    "Q3. Create a Pandas DataFrame that contains the following data:\n",
    "Name\n",
    "Alice\n",
    "Bob\n",
    "Claire\n",
    "Age\n",
    "25\n",
    "30\n",
    "27\n",
    "Gender\n",
    "Female\n",
    "Male\n",
    "Femal\n",
    "Then, print the DataFrame."
   ]
  },
  {
   "cell_type": "code",
   "execution_count": 21,
   "id": "78cd1fb7-1a1c-42d6-8970-29edd0b533b3",
   "metadata": {},
   "outputs": [],
   "source": [
    "dict = {'Name':['Alice', 'Bob', 'Claire'],\n",
    "        'Age' :[25,30,27],\n",
    "        'Gender':['Female','Male','Female']\n",
    "       }"
   ]
  },
  {
   "cell_type": "code",
   "execution_count": 23,
   "id": "8d08ec41-5b8c-4281-9b66-a5aec6fb45e8",
   "metadata": {},
   "outputs": [],
   "source": [
    "d1 = pd.DataFrame(dict)"
   ]
  },
  {
   "cell_type": "code",
   "execution_count": 24,
   "id": "9230990c-118d-4176-8be2-5e8e9e9fa711",
   "metadata": {},
   "outputs": [
    {
     "data": {
      "text/html": [
       "<div>\n",
       "<style scoped>\n",
       "    .dataframe tbody tr th:only-of-type {\n",
       "        vertical-align: middle;\n",
       "    }\n",
       "\n",
       "    .dataframe tbody tr th {\n",
       "        vertical-align: top;\n",
       "    }\n",
       "\n",
       "    .dataframe thead th {\n",
       "        text-align: right;\n",
       "    }\n",
       "</style>\n",
       "<table border=\"1\" class=\"dataframe\">\n",
       "  <thead>\n",
       "    <tr style=\"text-align: right;\">\n",
       "      <th></th>\n",
       "      <th>Name</th>\n",
       "      <th>Age</th>\n",
       "      <th>Gender</th>\n",
       "    </tr>\n",
       "  </thead>\n",
       "  <tbody>\n",
       "    <tr>\n",
       "      <th>0</th>\n",
       "      <td>Alice</td>\n",
       "      <td>25</td>\n",
       "      <td>Female</td>\n",
       "    </tr>\n",
       "    <tr>\n",
       "      <th>1</th>\n",
       "      <td>Bob</td>\n",
       "      <td>30</td>\n",
       "      <td>Male</td>\n",
       "    </tr>\n",
       "    <tr>\n",
       "      <th>2</th>\n",
       "      <td>Claire</td>\n",
       "      <td>27</td>\n",
       "      <td>Female</td>\n",
       "    </tr>\n",
       "  </tbody>\n",
       "</table>\n",
       "</div>"
      ],
      "text/plain": [
       "     Name  Age  Gender\n",
       "0   Alice   25  Female\n",
       "1     Bob   30    Male\n",
       "2  Claire   27  Female"
      ]
     },
     "execution_count": 24,
     "metadata": {},
     "output_type": "execute_result"
    }
   ],
   "source": [
    "d1"
   ]
  },
  {
   "cell_type": "markdown",
   "id": "b0bcf4fe-4402-47f4-affd-4c0553f7adf9",
   "metadata": {},
   "source": [
    "Q4. What is ‘DataFrame’ in pandas and how is it different from pandas.series? Explain with an example."
   ]
  },
  {
   "cell_type": "markdown",
   "id": "273b995a-a792-4bcb-bb04-b60147bdfc85",
   "metadata": {},
   "source": [
    "Ans :- Pandas DataFrame is two-dimensional size-mutable, potentially heterogeneous tabular data structure with labeled axes (rows and columns). A Data frame is a two-dimensional data structure, i.e., data is aligned in a tabular fashion in rows and columns. Pandas DataFrame consists of three principal components, the data, rows, and columns.\n",
    "\n",
    "1.Firstly, the DataFrame can contain data that is:\n",
    "a Pandas DataFrame\n",
    "a Pandas Series: a one-dimensional labeled array capable of holding any data type with axis labels or index. An example of a Series object is one column from a DataFrame.\n",
    "a NumPy ndarray, which can be a record or structured\n",
    "a two-dimensional ndarray\n",
    "dictionaries of one-dimensional ndarray’s, lists, dictionaries or Series.\n",
    "Note the difference between np.ndarray and np.array() . The former is an actual data type, while the latter is a function to make arrays from other data structures.\n",
    "\n",
    "Structured arrays allow users to manipulate the data by named fields: in the example below, a structured array of three tuples is created. The first element of each tuple will be called foo and will be of type int, while the second element will be named bar and will be a float.\n",
    "\n",
    "Record arrays, on the other hand, expand the properties of structured arrays. They allow users to access fields of structured arrays by attribute rather than by index.\n",
    "\n",
    "2.Besides data, you can also specify the index and column names for your DataFrame. The index, on the one hand, indicates the difference in rows, while the column names indicate the difference in columns.\n",
    "\n",
    "Difference Between Pandas Series and  DataFrame : -\n",
    "Although a Pandas Series and a  DataFrame have many similarities, there are some key differences between the two data structures.\n",
    "\n",
    "Dimensions\n",
    "The dimensions of the data are where a Pandas Series and a DataFrame most obviously diverge. A Series only has one data column, whereas a DataFrame contains both a data column and an index. The labels for the data are contained in the index, which is a second column.\n",
    "\n",
    "Functionality\n",
    "There are certain distinctions in the extra features that a Series and a  DataFrame offer, despite the fact that they share many common functionalities. Additional features like filtering, merging, and joining is accessible in a DataFrame but not in a Series.\n",
    "\n",
    "Data Alignment\n",
    "Based on the index labels, a Pandas Series can be aligned with another Series or DataFrame. Even if the index labels are ordered differently, the alignment makes sure the data is correctly matched. Data alignment is also supported in a  DataFrame, but it is determined by the column label.\n",
    "\n",
    "Performance\n",
    "For actions that only involve one column of data, a Series performs more quickly than a DataFrame. This is so because a Series has a more straightforward structure than a DataFrame with a column."
   ]
  },
  {
   "cell_type": "markdown",
   "id": "48c931cf-bd27-4a75-abf5-f7128728f391",
   "metadata": {},
   "source": [
    "Q5. What are some common functions you can use to manipulate data in a Pandas DataFrame? Can \n",
    "you give an example of when you might use one of these functions?"
   ]
  },
  {
   "cell_type": "markdown",
   "id": "1a76d4bf-6a6c-4f82-9f8f-2ebb0da7c2ca",
   "metadata": {},
   "source": [
    "Some common functions which are used to manipulate data in a  Pandas Dataframe are:-\n",
    "\n",
    "1. Unique and nunique\n",
    "Unique function in pandas returns a list of the unique elements based on the appearance. This function is faster than NumPy’s unique and it also includes NA values. This is particularly useful to check the different values in a categorical field.\n",
    "\n",
    "data['Embarked'].unique()\n",
    "Output: array([‘S’, ‘C’, ‘Q’, nan], dtype=object)\n",
    "\n",
    "Nunique function on the other hand counts the distinct values of columns. NaN values can be ignored. This shows only the number of different categories present in a column of a dataframe.\n",
    "\n",
    "data['Embarked'].nunique()\n",
    "Output : 3\n",
    "\n",
    " \n",
    "\n",
    "2. Describe\n",
    "This function shows descriptive statistics like mean, standard deviation, maximum, minimum, and other central tendencies and the shape of the distribution. This excludes NaN values from the summary. This is useful to get an idea about the distribution of data fields and outliers if any. The percentile of the output can be customized by mentioning the percentiles range in the function parameter.\n",
    "\n",
    "data.describe()\n",
    "Output:\n",
    "\n",
    "manipulate pandas dataframe describe\n",
    " \n",
    "\n",
    "3. Sort_values\n",
    "This function changes the order of the values in a column by sorting it. So, we can use this to show the dataframe as per our need by sorting ascending or descending order.\n",
    "\n",
    " \n",
    "\n",
    "We can set the “ascending” parameter true or false, which is by default true. We can also change sorting by index or by column by setting the parameter “axis” 0 or 1. We can also sort for multiple columns by mentioning them within a list (e.g. data.sort_values(by=[‘Age’,’Pclass’, ascending=[False,True]).\n",
    "\n",
    "data.sort_values(by='Age', ascending=False)\n",
    "Output:\n",
    "\n",
    "manipulate pandas dataframe sort\n",
    " \n",
    "\n",
    "4. Value_counts\n",
    "This function returns the value of the count for every unique item present in the column. The values are showing in descending order so that the most frequent element comes first. This excludes the null values. Here we will see the number of males and females onboard in different classes by calling the value_counts() function in the following way.\n",
    "\n",
    "data[['Pclass','Sex']].value_counts()\n",
    "Output:\n",
    "\n",
    "manipulate pandas dataframe value counts\n",
    " \n",
    "\n",
    "5. Isnull \n",
    "This function finds if there are any missing values present in an array-like object. This function returns boolean values after checking for missing values. We are creating a list with one null value and when it is passed through the isnull() function, it gives output with a boolean list.\n",
    "\n",
    "manipulate pandas dataframe isnull\n",
    "This can also come in handy when we check for missing values in a large dataframe. We can compute the total number of missing values of a column by adding sum() function at the end of isnull() function. Here we are taking our dataset and check for each column if there is any missing value and show the same.\n",
    "\n",
    "#taking each column out of dataframe\n",
    "\n",
    "for col in data.columns: \n",
    "\n",
    "    #checking if there is any null in the column\n",
    "\n",
    "    if data[col].isnull().sum()>0: \n",
    "\n",
    "        # if null present, total number of null in the column stores here\n",
    "\n",
    "        total_null = data[col].isnull().sum() \n",
    "\n",
    "        print('Column {} has total null {}, i.e. {} %'.format(col,total_null,round(total_null*100/len(data),2))) #output\n",
    "Output:\n",
    "\n",
    "isnull result\n",
    " \n",
    "\n",
    "6. Fillna\n",
    "This function is used to fill missing values based on the specified method. Fillna takes parameters such as value (a value which is used to fill the missing value) and method (such as bfill, ffill, etc).  In our example dataset, the field “Age” has a total of 177 missing values. Let’s fill it with the median of  “Age” using fillna() function.\n",
    "\n",
    "data['Age'].fillna(value=data['Age'].median(),inplace=True)\n",
    "data['Age'].isnull().sum()\n",
    "Output:\n",
    "\n",
    "0\n",
    "\n",
    "The parameter “value” of fillna() can also be obtained from other complex groupby or dataframe or dictionary.\n",
    "\n",
    " \n",
    "\n",
    "7. Groupby \n",
    "Pandas groupby() function is used to split the data and apply some function to it and at the end combine the result to another object. often we need to split the data and apply some aggregation (e.g. sum, mean, count, etc) to it or transform it (e.g. for filling missing values or standardize data), groupby function comes helpful in these situations.\n",
    "\n",
    "#we want to see for each gender maximum, minimum, average and median of age field\n",
    "data.groupby(['Sex'])['Age'].agg(['max','min','mean','median'])\n",
    "Output:\n",
    "\n",
    "Groupby\n",
    " \n",
    "\n",
    "8. Map \n",
    "Map function in pandas is used to map series and replace values of one series with another value associated with a dictionary, a series, or a function. This function is often used for substituting values of a column of a dataframe or a series, but the values of the caller map function and the values of the column passed as series must be the same.\n",
    "\n",
    "\n",
    " 9. Apply\n",
    "Pandas apply function certainly one of the most useful functions among all. We can pass a function inside apply and it’ll apply on the entire dataframe or a particular series as per need. It helps to modify the data according to the condition in a much flexible manner.\n",
    "\n",
    "10. Pivot\n",
    "The pivot function reshapes the dataframe by index or column values. This function is basically similar to the pivot table. It uses the unique value of a column to form an index of a dataframe. Unlike the groupby function, pivot doesn’t support data aggregation."
   ]
  },
  {
   "cell_type": "code",
   "execution_count": 30,
   "id": "1f6d9ad6-879b-44aa-9a1b-5b497f1ddfb7",
   "metadata": {},
   "outputs": [
    {
     "data": {
      "text/html": [
       "<div>\n",
       "<style scoped>\n",
       "    .dataframe tbody tr th:only-of-type {\n",
       "        vertical-align: middle;\n",
       "    }\n",
       "\n",
       "    .dataframe tbody tr th {\n",
       "        vertical-align: top;\n",
       "    }\n",
       "\n",
       "    .dataframe thead th {\n",
       "        text-align: right;\n",
       "    }\n",
       "</style>\n",
       "<table border=\"1\" class=\"dataframe\">\n",
       "  <thead>\n",
       "    <tr style=\"text-align: right;\">\n",
       "      <th></th>\n",
       "      <th>Name</th>\n",
       "      <th>Age</th>\n",
       "      <th>Gender</th>\n",
       "    </tr>\n",
       "  </thead>\n",
       "  <tbody>\n",
       "    <tr>\n",
       "      <th>0</th>\n",
       "      <td>False</td>\n",
       "      <td>False</td>\n",
       "      <td>False</td>\n",
       "    </tr>\n",
       "    <tr>\n",
       "      <th>1</th>\n",
       "      <td>False</td>\n",
       "      <td>False</td>\n",
       "      <td>False</td>\n",
       "    </tr>\n",
       "    <tr>\n",
       "      <th>2</th>\n",
       "      <td>False</td>\n",
       "      <td>False</td>\n",
       "      <td>False</td>\n",
       "    </tr>\n",
       "  </tbody>\n",
       "</table>\n",
       "</div>"
      ],
      "text/plain": [
       "    Name    Age  Gender\n",
       "0  False  False   False\n",
       "1  False  False   False\n",
       "2  False  False   False"
      ]
     },
     "execution_count": 30,
     "metadata": {},
     "output_type": "execute_result"
    }
   ],
   "source": [
    "d1.isnull()"
   ]
  },
  {
   "cell_type": "code",
   "execution_count": 31,
   "id": "dbe5995f-4b52-49e4-a26f-26913f878fde",
   "metadata": {},
   "outputs": [],
   "source": [
    "g1 = d1.groupby('Age')"
   ]
  },
  {
   "cell_type": "code",
   "execution_count": 32,
   "id": "812b1838-3331-4148-8cca-0a6113382eb1",
   "metadata": {},
   "outputs": [
    {
     "data": {
      "text/plain": [
       "<pandas.core.groupby.generic.DataFrameGroupBy object at 0x7f6fe959b8b0>"
      ]
     },
     "execution_count": 32,
     "metadata": {},
     "output_type": "execute_result"
    }
   ],
   "source": [
    "g1"
   ]
  },
  {
   "cell_type": "code",
   "execution_count": 35,
   "id": "3b50cc06-ac80-4ed1-aa1d-dee192cb37d2",
   "metadata": {},
   "outputs": [
    {
     "name": "stderr",
     "output_type": "stream",
     "text": [
      "/tmp/ipykernel_154/3287460031.py:1: FutureWarning: The default value of numeric_only in DataFrameGroupBy.mean is deprecated. In a future version, numeric_only will default to False. Either specify numeric_only or select only columns which should be valid for the function.\n",
      "  g1.mean()\n"
     ]
    },
    {
     "data": {
      "text/html": [
       "<div>\n",
       "<style scoped>\n",
       "    .dataframe tbody tr th:only-of-type {\n",
       "        vertical-align: middle;\n",
       "    }\n",
       "\n",
       "    .dataframe tbody tr th {\n",
       "        vertical-align: top;\n",
       "    }\n",
       "\n",
       "    .dataframe thead th {\n",
       "        text-align: right;\n",
       "    }\n",
       "</style>\n",
       "<table border=\"1\" class=\"dataframe\">\n",
       "  <thead>\n",
       "    <tr style=\"text-align: right;\">\n",
       "      <th></th>\n",
       "    </tr>\n",
       "    <tr>\n",
       "      <th>Age</th>\n",
       "    </tr>\n",
       "  </thead>\n",
       "  <tbody>\n",
       "    <tr>\n",
       "      <th>25</th>\n",
       "    </tr>\n",
       "    <tr>\n",
       "      <th>27</th>\n",
       "    </tr>\n",
       "    <tr>\n",
       "      <th>30</th>\n",
       "    </tr>\n",
       "  </tbody>\n",
       "</table>\n",
       "</div>"
      ],
      "text/plain": [
       "Empty DataFrame\n",
       "Columns: []\n",
       "Index: [25, 27, 30]"
      ]
     },
     "execution_count": 35,
     "metadata": {},
     "output_type": "execute_result"
    }
   ],
   "source": [
    "g1.mean()"
   ]
  },
  {
   "cell_type": "code",
   "execution_count": 34,
   "id": "a70a3673-1e7c-4fe4-9216-3326b7e47ad0",
   "metadata": {},
   "outputs": [
    {
     "data": {
      "text/html": [
       "<div>\n",
       "<style scoped>\n",
       "    .dataframe tbody tr th:only-of-type {\n",
       "        vertical-align: middle;\n",
       "    }\n",
       "\n",
       "    .dataframe tbody tr th {\n",
       "        vertical-align: top;\n",
       "    }\n",
       "\n",
       "    .dataframe thead th {\n",
       "        text-align: right;\n",
       "    }\n",
       "</style>\n",
       "<table border=\"1\" class=\"dataframe\">\n",
       "  <thead>\n",
       "    <tr style=\"text-align: right;\">\n",
       "      <th></th>\n",
       "      <th>Name</th>\n",
       "      <th>Age</th>\n",
       "      <th>Gender</th>\n",
       "    </tr>\n",
       "  </thead>\n",
       "  <tbody>\n",
       "    <tr>\n",
       "      <th>0</th>\n",
       "      <td>Alice</td>\n",
       "      <td>25</td>\n",
       "      <td>Female</td>\n",
       "    </tr>\n",
       "    <tr>\n",
       "      <th>1</th>\n",
       "      <td>Bob</td>\n",
       "      <td>30</td>\n",
       "      <td>Male</td>\n",
       "    </tr>\n",
       "    <tr>\n",
       "      <th>2</th>\n",
       "      <td>Claire</td>\n",
       "      <td>27</td>\n",
       "      <td>Female</td>\n",
       "    </tr>\n",
       "  </tbody>\n",
       "</table>\n",
       "</div>"
      ],
      "text/plain": [
       "     Name  Age  Gender\n",
       "0   Alice   25  Female\n",
       "1     Bob   30    Male\n",
       "2  Claire   27  Female"
      ]
     },
     "execution_count": 34,
     "metadata": {},
     "output_type": "execute_result"
    }
   ],
   "source": [
    "d1"
   ]
  },
  {
   "cell_type": "markdown",
   "id": "abd3885a-f2e9-4c65-968e-e5289433a2ca",
   "metadata": {},
   "source": [
    "Q6. Which of the following is mutable in nature Series, DataFrame, Panel?"
   ]
  },
  {
   "cell_type": "markdown",
   "id": "b7705910-63a6-4ab8-a7d4-c8cfcdcce5f1",
   "metadata": {},
   "source": [
    "Ans:-Pandas deals with the following three data structures −\n",
    "\n",
    "Series\n",
    "DataFrame\n",
    "Panel\n",
    "These data structures are built on top of Numpy array, which means they are fast.\n",
    "\n",
    "Dimension & Description\n",
    "The best way to think of these data structures is that the higher dimensional data structure is a container of its lower dimensional data structure. For example, DataFrame is a container of Series, Panel is a container of DataFrame.\n",
    "\n",
    "Data Structure\tDimensions\tDescription\n",
    "Series\t1\t1D labeled homogeneous array, sizeimmutable.\n",
    "Data Frames\t2\tGeneral 2D labeled, size-mutable tabular structure with potentially heterogeneously typed columns.\n",
    "Panel\t3\tGeneral 3D labeled, size-mutable array.\n",
    "Building and handling two or more dimensional arrays is a tedious task, burden is placed on the user to consider the orientation of the data set when writing functions. But using Pandas data structures, the mental effort of the user is reduced.\n",
    "\n",
    "For example, with tabular data (DataFrame) it is more semantically helpful to think of the index (the rows) and the columns rather than axis 0 and axis 1.\n",
    "\n",
    "Mutability\n",
    "All Pandas data structures are value mutable (can be changed) and except Series all are size mutable. Series is size immutable.\n",
    "\n",
    "Series :-\n",
    "Series is a one-dimensional array like structure with homogeneous data. For example, the following series is a collection of integers 10, 23, 56, …\n",
    "\n",
    "10\t23\t56\t17\t52\t61\t73\t90\t26\t72\n",
    "Key Points\n",
    "Homogeneous data\n",
    "Size Immutable\n",
    "Values of Data Mutable\n",
    "\n",
    "DataFrame :-\n",
    "DataFrame is a two-dimensional array with heterogeneous data.\n",
    "Key Points\n",
    "Heterogeneous data\n",
    "Size Mutable\n",
    "Data Mutable\n",
    "\n",
    "Panel :-\n",
    "Panel is a three-dimensional data structure with heterogeneous data. It is hard to represent the panel in graphical representation. But a panel can be illustrated as a container of DataFrame.\n",
    "\n",
    "Key Points\n",
    "Heterogeneous data\n",
    "Size Mutable\n",
    "Data Mutable"
   ]
  },
  {
   "cell_type": "markdown",
   "id": "1c8952fe-2130-4fb6-b951-f5c677959e15",
   "metadata": {},
   "source": [
    "Q7. Create a DataFrame using multiple Series. Explain with an example."
   ]
  },
  {
   "cell_type": "code",
   "execution_count": 36,
   "id": "d921c3b4-9b3e-4025-b474-97a954de5b62",
   "metadata": {},
   "outputs": [
    {
     "data": {
      "text/plain": [
       "0     4\n",
       "1     8\n",
       "2    15\n",
       "3    16\n",
       "4    23\n",
       "5    42\n",
       "dtype: int64"
      ]
     },
     "execution_count": 36,
     "metadata": {},
     "output_type": "execute_result"
    }
   ],
   "source": [
    "s1"
   ]
  },
  {
   "cell_type": "code",
   "execution_count": 37,
   "id": "eb14c68a-8892-46f1-be00-abb864cec136",
   "metadata": {},
   "outputs": [
    {
     "data": {
      "text/plain": [
       "0    0\n",
       "1    1\n",
       "2    2\n",
       "3    3\n",
       "4    4\n",
       "5    5\n",
       "6    6\n",
       "7    7\n",
       "8    8\n",
       "9    9\n",
       "dtype: int64"
      ]
     },
     "execution_count": 37,
     "metadata": {},
     "output_type": "execute_result"
    }
   ],
   "source": [
    "s2"
   ]
  },
  {
   "cell_type": "code",
   "execution_count": 42,
   "id": "57ea8d90-27fd-4e14-ba68-68f7cebf0c0d",
   "metadata": {},
   "outputs": [],
   "source": [
    "df1 = pd.concat([s1,s2],axis=1)"
   ]
  },
  {
   "cell_type": "code",
   "execution_count": 43,
   "id": "ae7a18ad-f459-42de-a023-9ae6a97d013a",
   "metadata": {},
   "outputs": [
    {
     "data": {
      "text/html": [
       "<div>\n",
       "<style scoped>\n",
       "    .dataframe tbody tr th:only-of-type {\n",
       "        vertical-align: middle;\n",
       "    }\n",
       "\n",
       "    .dataframe tbody tr th {\n",
       "        vertical-align: top;\n",
       "    }\n",
       "\n",
       "    .dataframe thead th {\n",
       "        text-align: right;\n",
       "    }\n",
       "</style>\n",
       "<table border=\"1\" class=\"dataframe\">\n",
       "  <thead>\n",
       "    <tr style=\"text-align: right;\">\n",
       "      <th></th>\n",
       "      <th>0</th>\n",
       "      <th>1</th>\n",
       "    </tr>\n",
       "  </thead>\n",
       "  <tbody>\n",
       "    <tr>\n",
       "      <th>0</th>\n",
       "      <td>4.0</td>\n",
       "      <td>0</td>\n",
       "    </tr>\n",
       "    <tr>\n",
       "      <th>1</th>\n",
       "      <td>8.0</td>\n",
       "      <td>1</td>\n",
       "    </tr>\n",
       "    <tr>\n",
       "      <th>2</th>\n",
       "      <td>15.0</td>\n",
       "      <td>2</td>\n",
       "    </tr>\n",
       "    <tr>\n",
       "      <th>3</th>\n",
       "      <td>16.0</td>\n",
       "      <td>3</td>\n",
       "    </tr>\n",
       "    <tr>\n",
       "      <th>4</th>\n",
       "      <td>23.0</td>\n",
       "      <td>4</td>\n",
       "    </tr>\n",
       "    <tr>\n",
       "      <th>5</th>\n",
       "      <td>42.0</td>\n",
       "      <td>5</td>\n",
       "    </tr>\n",
       "    <tr>\n",
       "      <th>6</th>\n",
       "      <td>NaN</td>\n",
       "      <td>6</td>\n",
       "    </tr>\n",
       "    <tr>\n",
       "      <th>7</th>\n",
       "      <td>NaN</td>\n",
       "      <td>7</td>\n",
       "    </tr>\n",
       "    <tr>\n",
       "      <th>8</th>\n",
       "      <td>NaN</td>\n",
       "      <td>8</td>\n",
       "    </tr>\n",
       "    <tr>\n",
       "      <th>9</th>\n",
       "      <td>NaN</td>\n",
       "      <td>9</td>\n",
       "    </tr>\n",
       "  </tbody>\n",
       "</table>\n",
       "</div>"
      ],
      "text/plain": [
       "      0  1\n",
       "0   4.0  0\n",
       "1   8.0  1\n",
       "2  15.0  2\n",
       "3  16.0  3\n",
       "4  23.0  4\n",
       "5  42.0  5\n",
       "6   NaN  6\n",
       "7   NaN  7\n",
       "8   NaN  8\n",
       "9   NaN  9"
      ]
     },
     "execution_count": 43,
     "metadata": {},
     "output_type": "execute_result"
    }
   ],
   "source": [
    "df1"
   ]
  },
  {
   "cell_type": "code",
   "execution_count": 44,
   "id": "72281fad-c439-48d9-8e2d-6f253e1a8032",
   "metadata": {},
   "outputs": [
    {
     "data": {
      "text/plain": [
       "pandas.core.frame.DataFrame"
      ]
     },
     "execution_count": 44,
     "metadata": {},
     "output_type": "execute_result"
    }
   ],
   "source": [
    "type(df1)"
   ]
  },
  {
   "cell_type": "code",
   "execution_count": null,
   "id": "25bdc5a7-5fb4-4d33-9db7-e2771f5e71c1",
   "metadata": {},
   "outputs": [],
   "source": []
  }
 ],
 "metadata": {
  "kernelspec": {
   "display_name": "Python 3 (ipykernel)",
   "language": "python",
   "name": "python3"
  },
  "language_info": {
   "codemirror_mode": {
    "name": "ipython",
    "version": 3
   },
   "file_extension": ".py",
   "mimetype": "text/x-python",
   "name": "python",
   "nbconvert_exporter": "python",
   "pygments_lexer": "ipython3",
   "version": "3.10.8"
  }
 },
 "nbformat": 4,
 "nbformat_minor": 5
}
